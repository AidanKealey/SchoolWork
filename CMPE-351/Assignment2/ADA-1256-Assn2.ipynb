{
 "cells": [
  {
   "cell_type": "markdown",
   "metadata": {},
   "source": [
    "# ADA (Advanced Data Analytics) - Assignment 2\n",
    "\n",
    "    Aidan Kealey | 20151256"
   ]
  },
  {
   "cell_type": "markdown",
   "metadata": {},
   "source": [
    "## Imports"
   ]
  },
  {
   "cell_type": "code",
   "execution_count": 12,
   "metadata": {},
   "outputs": [],
   "source": [
    "import os\n",
    "import argparse\n",
    "import torch\n",
    "import time\n",
    "import numpy as np\n",
    "import matplotlib.pyplot as plt\n",
    "import pandas as pd\n",
    "import torch.nn as nn\n",
    "import torch.optim as optim\n",
    "from torchvision import models\n",
    "from torchvision import transforms\n",
    "from torch.optim.lr_scheduler import StepLR\n",
    "from torchvision.transforms import functional\n",
    "from torch.utils.data import DataLoader, Dataset, random_split\n",
    "from PIL import Image\n",
    "from tqdm.auto import tqdm\n",
    "from sklearn.metrics import accuracy_score"
   ]
  },
  {
   "cell_type": "markdown",
   "metadata": {},
   "source": [
    "## Configure System"
   ]
  },
  {
   "cell_type": "code",
   "execution_count": 13,
   "metadata": {},
   "outputs": [
    {
     "name": "stdout",
     "output_type": "stream",
     "text": [
      "PyTorch version: 2.1.1\n",
      "Is MPS (Metal Performance Shader) built? True\n",
      "Is MPS available? True\n",
      "using mps ...\n",
      "Using device: mps\n"
     ]
    }
   ],
   "source": [
    "print(f\"PyTorch version: {torch.__version__}\")\n",
    "print(f\"Is MPS (Metal Performance Shader) built? {torch.backends.mps.is_built()}\")\n",
    "print(f\"Is MPS available? {torch.backends.mps.is_available()}\")\n",
    "# device = \"mps\" if torch.backends.mps.is_available() else \"cpu\"\n",
    "if torch.cuda.is_available():\n",
    "    print('using cuda ...')\n",
    "    device = \"cuda\" if torch.cuda.is_available() else \"cpu\"\n",
    "elif torch.backends.mps.is_available():\n",
    "    print('using mps ...')\n",
    "    device = \"mps\" if torch.backends.mps.is_available() else \"cpu\"\n",
    "else:\n",
    "    print('using cpu ...')\n",
    "    device = torch.device(\"cpu\")\n",
    "# device = torch.device(\"cpu\")\n",
    "# device = torch.device(\"mps\")\n",
    "print(f\"Using device: {device}\")"
   ]
  },
  {
   "cell_type": "code",
   "execution_count": 14,
   "metadata": {},
   "outputs": [
    {
     "name": "stdout",
     "output_type": "stream",
     "text": [
      "Using device: mps\n"
     ]
    }
   ],
   "source": [
    "# device = torch.device(\"cpu\")\n",
    "# device = torch.device(\"mps\")\n",
    "print(f\"Using device: {device}\")"
   ]
  },
  {
   "cell_type": "markdown",
   "metadata": {},
   "source": [
    "## The Model"
   ]
  },
  {
   "cell_type": "markdown",
   "metadata": {},
   "source": [
    "### Model Motivation:\n",
    "\n",
    "The model took heavy inspiration from the Food Image Classification Tutorial model. This was due to ease of implementation and allowed me to understand the tutorial better. The model consists of 2 sections (cnn and fc). Within the cnn, the structure is fairly consistent with the structure seen in the tutorial, however, the last layer which was originally taking in [512, 8, 8] and outputting [512, 4, 4] was changed to two layers where layer 1 takes in [512, 8, 8] and outputs [1024, 8, 8] and then layer 2 takes in [1024, 8, 8] since the max pool was removed produces an output of [1024, 8, 8]. This change to the cnn added complexity to the model, as it increased its parameter count and depth. This change can result in the increase likelihood of the model overfitting and due to the increased parameter count, the model could result in longer training times, however, I was interested in exploring the results of this change and therefore continued with them. Lastly, the fully connected (fc) part of the model where the classification happens (the second part), required a modification to account for the new input size. The last layer in the model was also changed from the tutorial's 11 to 13 to account for the 13 categories in the fashion dataset. These chnages also allowed me to update the transform size from (128, 128) to (80, 60) which is consistent with the dimensions of all the images in the fashion dataset."
   ]
  },
  {
   "cell_type": "code",
   "execution_count": 15,
   "metadata": {},
   "outputs": [],
   "source": [
    "class myCNNModel(nn.Module):\n",
    "    def __init__(self):\n",
    "        super(myCNNModel, self).__init__()\n",
    "        self.cnn = nn.Sequential(\n",
    "            nn.Conv2d(3, 64, 3, 1, 1),\n",
    "            nn.BatchNorm2d(64),\n",
    "            nn.ReLU(),\n",
    "            nn.MaxPool2d(2, 2, 0), \n",
    "\n",
    "            nn.Conv2d(64, 128, 3, 1, 1), \n",
    "            nn.BatchNorm2d(128),\n",
    "            nn.ReLU(),\n",
    "            nn.MaxPool2d(2, 2, 0), \n",
    "\n",
    "            nn.Conv2d(128, 256, 3, 1, 1), \n",
    "            nn.BatchNorm2d(256),\n",
    "            nn.ReLU(),\n",
    "            nn.MaxPool2d(2, 2, 0), \n",
    "\n",
    "            nn.Conv2d(256, 512, 3, 1, 1), \n",
    "            nn.BatchNorm2d(512),\n",
    "            nn.ReLU(),\n",
    "            nn.MaxPool2d(2, 2, 0), \n",
    "            \n",
    "            nn.Conv2d(512, 1024, 3, 1, 1), \n",
    "            nn.BatchNorm2d(1024),\n",
    "            nn.ReLU(), \n",
    "\n",
    "            nn.Conv2d(1024, 1024, 3, 1, 1), \n",
    "            nn.BatchNorm2d(1024),\n",
    "            nn.ReLU()\n",
    "        )\n",
    "\n",
    "        self.fc = nn.Sequential(\n",
    "            nn.Linear(1024*5*3, 512),\n",
    "            nn.ReLU(),\n",
    "            nn.Linear(512, 256),\n",
    "            nn.ReLU(),\n",
    "            nn.Linear(256, 13)\n",
    "        )\n",
    "\n",
    "        \n",
    "    def forward(self, x):\n",
    "        x = self.cnn(x)\n",
    "        x = x.view(x.size()[0], -1)\n",
    "\n",
    "        return self.fc(x)\n",
    "\n"
   ]
  },
  {
   "cell_type": "markdown",
   "metadata": {},
   "source": [
    "## Setup the Dataset"
   ]
  },
  {
   "cell_type": "markdown",
   "metadata": {},
   "source": [
    "### Data Setup\n",
    "\n",
    "please place train and test csv into the data folder where the images folder is stored\n",
    "\n",
    "| ADA-1256-Assn2.ipynb  \n",
    "| data  \n",
    "&emsp;\\  \n",
    "&emsp;| images  \n",
    "&emsp;&emsp;\\  \n",
    "&emsp;&emsp;| 1163.jpg  \n",
    "&emsp;&emsp;| 1164.jpg  \n",
    "&emsp;&emsp;| 1165.jpg  \n",
    "&emsp;&emsp;| ...  \n",
    "&emsp;| test.csv  \n",
    "&emsp;| train.csv"
   ]
  },
  {
   "cell_type": "markdown",
   "metadata": {},
   "source": [
    "#### PART 1 & 2.1"
   ]
  },
  {
   "cell_type": "code",
   "execution_count": 16,
   "metadata": {},
   "outputs": [],
   "source": [
    "class myDataset(Dataset):\n",
    "    def __init__(self, dir_labels, dir_imgs, transforms=None):\n",
    "        super(myDataset, self).__init__()\n",
    "        self.dir_imgs = dir_imgs\n",
    "        self.transform = transforms\n",
    "        self.categories = ['Topwear', 'Bottomwear', 'Innerwear', 'Bags', 'Watches', \n",
    "                           'Jewellery', 'Eyewear', 'Wallets', 'Shoes', 'Sandal', 'Makeup', 'Fragrance', 'Others']\n",
    "        self.encode = {cat: i for i, cat in enumerate(self.categories, start=1)}\n",
    "        \n",
    "        with open(dir_labels, 'r') as file:\n",
    "            lines = file.readlines()[1:]\n",
    "            self.img_filenames = [os.path.join(line.split()[0], \".jpg\") for line in lines]\n",
    "            self.img_files = [(os.path.join(dir_imgs, line.split()[0]) + \".jpg\") for line in lines]\n",
    "            self.labels = [str(line.split()[1]) for line in lines]\n",
    "\n",
    "\n",
    "    def __len__(self):\n",
    "        return len(self.img_files)\n",
    "    \n",
    "    \n",
    "    def __getitem__(self, item):\n",
    "        img_filename = self.img_filenames[item]\n",
    "        img_path = self.img_files[item]\n",
    "        label = self.labels[item]\n",
    "\n",
    "        img = Image.open(img_path).convert('RGB')\n",
    "\n",
    "        label = self.encode[label]\n",
    "\n",
    "        if self.transform:\n",
    "            img = self.transform(img)\n",
    "\n",
    "        return img_path, img, label\n",
    "        "
   ]
  },
  {
   "cell_type": "markdown",
   "metadata": {},
   "source": [
    "#### PART 2.2"
   ]
  },
  {
   "cell_type": "code",
   "execution_count": 17,
   "metadata": {},
   "outputs": [],
   "source": [
    "class myDataset2_2(Dataset):\n",
    "    def __init__(self, dir_labels, dir_imgs, transforms=None):\n",
    "        super(myDataset2_2, self).__init__()\n",
    "        self.dir_imgs = dir_imgs\n",
    "        self.transform = transforms\n",
    "        self.categories = ['Topwear', 'Bottomwear', 'Innerwear', 'Bags', 'Watches', \n",
    "                           'Jewellery', 'Eyewear', 'Wallets', 'Shoes', 'Sandal', 'Makeup', 'Fragrance', 'Others']\n",
    "        self.encode = {cat: i for i, cat in enumerate(self.categories, start=1)}\n",
    "        \n",
    "        self.img_paths = []\n",
    "        self.labels = []\n",
    "        self.augmented = []\n",
    "\n",
    "        with open(dir_labels, 'r') as file:\n",
    "            lines = file.readlines()[1:]\n",
    "            for line in lines:\n",
    "                img_filename = line.split()[0] + \".jpg\"\n",
    "                img_path = os.path.join(dir_imgs, img_filename)\n",
    "                label = str(line.split()[1])\n",
    "\n",
    "                self.img_paths.append(img_path)\n",
    "                self.labels.append(self.encode[label])\n",
    "\n",
    "                img = Image.open(img_path).convert('RGB')\n",
    "                flipped_img = functional.vflip(img)\n",
    "\n",
    "                self.augmented.append((img_path, img, self.encode[label]))\n",
    "                self.augmented.append((img_path, flipped_img, self.encode[label]))\n",
    "\n",
    "\n",
    "    def __len__(self):\n",
    "        return len(self.augmented)\n",
    "    \n",
    "    \n",
    "    def __getitem__(self, item):\n",
    "        img_path, img, label = self.augmented[item]\n",
    "\n",
    "        if self.transform:\n",
    "            img = self.transform(img)\n",
    "\n",
    "        return img_path, img, label\n",
    "        "
   ]
  },
  {
   "cell_type": "markdown",
   "metadata": {},
   "source": [
    "## Train Code"
   ]
  },
  {
   "cell_type": "code",
   "execution_count": 18,
   "metadata": {},
   "outputs": [],
   "source": [
    "def train(model, trainloader, validationloader, epochs, loss_fn, optimizer, scheduler, device, save_model, plot_name, part):\n",
    "    print(\"training...\")\n",
    "\n",
    "    losses = []\n",
    "    losses_v = []\n",
    "\n",
    "    start_time = time.time()\n",
    "\n",
    "    for epoch in range(epochs):\n",
    "        epoch_start_time = time.strftime(\"%H:%M:%S %p\")\n",
    "        print(f'Starting Epoch {epoch + 1} at {epoch_start_time}')\n",
    "        epoch_start_time = time.time()\n",
    "        epoch_loss = 0.0\n",
    "        epoch_loss_v = 0.0\n",
    "        accuracy = 0\n",
    "        accuracy_v = 0\n",
    "        total = 0\n",
    "        correct = 0\n",
    "        total_v = 0\n",
    "        correct_v = 0\n",
    "\n",
    "        model.train()\n",
    "        for batch in tqdm(trainloader):\n",
    "            _, img, label = batch\n",
    "            img = img.to(device=device)\n",
    "            label = label.to(device=device)\n",
    "\n",
    "            outputs = model(img)\n",
    "            loss = loss_fn(outputs, label)\n",
    "\n",
    "            optimizer.zero_grad()\n",
    "            loss.backward()\n",
    "            optimizer.step()\n",
    "\n",
    "            epoch_loss += loss.item()\n",
    "            _, predicted = torch.max(outputs.data, 1)\n",
    "            total += label.size(0)\n",
    "            correct += (predicted == label).sum().item()\n",
    "\n",
    "        losses.append(epoch_loss / len(trainloader))\n",
    "        accuracy = (correct / total) * 100\n",
    "\n",
    "        print(f\"Epoch {epoch+1} accuracy = {accuracy:.2f}%\")\n",
    "\n",
    "        scheduler.step()\n",
    "\n",
    "        model.eval()\n",
    "        with torch.no_grad():\n",
    "            for batch in tqdm(validationloader):\n",
    "                _, img, label = batch\n",
    "                img = img.to(device=device)\n",
    "                label = label.to(device=device)\n",
    "\n",
    "                outputs = model(img)\n",
    "\n",
    "                epoch_loss_v += loss.item()\n",
    "                _, predicted = torch.max(outputs.data, 1)\n",
    "                total_v += label.size(0)\n",
    "                correct_v += (predicted == label.squeeze()).sum().item()\n",
    "\n",
    "        losses_v.append(epoch_loss_v / len(validationloader))\n",
    "        accuracy_v = (correct_v / total_v) * 100\n",
    "\n",
    "        print(f\"Validation accuracy for epoch {epoch+1} is {accuracy_v:.2f}%\")\n",
    "\n",
    "        epoch_end_time = time.time()\n",
    "        epoch_time = epoch_end_time - epoch_start_time\n",
    "        print(f'Epoch {epoch + 1} took {epoch_time:.2f} seconds -- about {int(epoch_time / 60)} minutes')\n",
    "\n",
    "    model.to(\"cpu\")\n",
    "    torch.save(model.state_dict(), save_model)\n",
    "    print(f'Model trained and saved to {save_model}')\n",
    "\n",
    "    end_time = time.time()\n",
    "    total_training_time = end_time - start_time\n",
    "    print(f'Training Time: {total_training_time} seconds -- about {int(total_training_time / 60)} minutes')\n",
    "\n",
    "    plt.figure()\n",
    "    plt.plot(losses, label='Training Loss')\n",
    "    plt.plot(losses_v, label='Validation Loss')\n",
    "    plt.xlabel('Epochs')\n",
    "    plt.ylabel('Loss')\n",
    "    plt.title(f'Part {part} Training Loss Curve')\n",
    "    plt.legend()\n",
    "    plt.savefig(f'{plot_name}.png')\n",
    "    plt.show()\n",
    "\n",
    "    print(\"training completed\")\n"
   ]
  },
  {
   "cell_type": "markdown",
   "metadata": {},
   "source": [
    "## Test Code"
   ]
  },
  {
   "cell_type": "code",
   "execution_count": 19,
   "metadata": {},
   "outputs": [],
   "source": [
    "def test(model, dataloader, device, part):\n",
    "    print(\"testing...\")\n",
    "\n",
    "    total = 0\n",
    "    correct = 0\n",
    "\n",
    "    with torch.no_grad():\n",
    "        for batch in tqdm(dataloader):\n",
    "            _, img, label = batch\n",
    "            img = img.to(device=device)\n",
    "            label = label.to(device=device)\n",
    "\n",
    "            outputs = model(img)\n",
    "\n",
    "            _, predicted = torch.max(outputs.data, 1)\n",
    "            total += label.size(0)\n",
    "            correct += (predicted == label.squeeze()).sum().item()\n",
    "\n",
    "    accuracy = (correct / total) * 100\n",
    "\n",
    "    print(f'Testing accuracy for PART {part} model {accuracy:.2f}%')\n",
    "\n",
    "    file = open('testingResults.txt', \"a\")\n",
    "    file.write(f\"Testing accuracy for PART {part} model {accuracy:.2f}%\\n\")\n",
    "    file.close()\n",
    "\n",
    "    print(\"testing completed\")"
   ]
  },
  {
   "cell_type": "markdown",
   "metadata": {},
   "source": [
    "## PART 1"
   ]
  },
  {
   "cell_type": "code",
   "execution_count": 20,
   "metadata": {},
   "outputs": [
    {
     "name": "stdout",
     "output_type": "stream",
     "text": [
      "PART 1 -- Starting\n",
      "training...\n",
      "Starting Epoch 1 at 12:32:59 PM\n"
     ]
    },
    {
     "name": "stderr",
     "output_type": "stream",
     "text": [
      "100%|██████████| 569/569 [00:56<00:00, 10.00it/s]\n"
     ]
    },
    {
     "name": "stdout",
     "output_type": "stream",
     "text": [
      "Epoch 1 accuracy = 76.02%\n"
     ]
    },
    {
     "name": "stderr",
     "output_type": "stream",
     "text": [
      "100%|██████████| 64/64 [00:01<00:00, 33.12it/s]\n"
     ]
    },
    {
     "name": "stdout",
     "output_type": "stream",
     "text": [
      "Validation accuracy for epoch 1 is 79.56%\n",
      "Epoch 1 took 58.84 seconds -- about 0 minutes\n",
      "Starting Epoch 2 at 12:33:58 PM\n"
     ]
    },
    {
     "name": "stderr",
     "output_type": "stream",
     "text": [
      "100%|██████████| 569/569 [00:56<00:00, 10.08it/s]\n"
     ]
    },
    {
     "name": "stdout",
     "output_type": "stream",
     "text": [
      "Epoch 2 accuracy = 82.18%\n"
     ]
    },
    {
     "name": "stderr",
     "output_type": "stream",
     "text": [
      "100%|██████████| 64/64 [00:01<00:00, 33.15it/s]\n"
     ]
    },
    {
     "name": "stdout",
     "output_type": "stream",
     "text": [
      "Validation accuracy for epoch 2 is 80.00%\n",
      "Epoch 2 took 58.36 seconds -- about 0 minutes\n",
      "Starting Epoch 3 at 12:34:57 PM\n"
     ]
    },
    {
     "name": "stderr",
     "output_type": "stream",
     "text": [
      "100%|██████████| 569/569 [00:56<00:00, 10.09it/s]\n"
     ]
    },
    {
     "name": "stdout",
     "output_type": "stream",
     "text": [
      "Epoch 3 accuracy = 83.33%\n"
     ]
    },
    {
     "name": "stderr",
     "output_type": "stream",
     "text": [
      "100%|██████████| 64/64 [00:01<00:00, 33.04it/s]\n"
     ]
    },
    {
     "name": "stdout",
     "output_type": "stream",
     "text": [
      "Validation accuracy for epoch 3 is 79.26%\n",
      "Epoch 3 took 58.31 seconds -- about 0 minutes\n",
      "Starting Epoch 4 at 12:35:55 PM\n"
     ]
    },
    {
     "name": "stderr",
     "output_type": "stream",
     "text": [
      "100%|██████████| 569/569 [00:56<00:00, 10.11it/s]\n"
     ]
    },
    {
     "name": "stdout",
     "output_type": "stream",
     "text": [
      "Epoch 4 accuracy = 84.63%\n"
     ]
    },
    {
     "name": "stderr",
     "output_type": "stream",
     "text": [
      "100%|██████████| 64/64 [00:01<00:00, 33.13it/s]\n"
     ]
    },
    {
     "name": "stdout",
     "output_type": "stream",
     "text": [
      "Validation accuracy for epoch 4 is 83.41%\n",
      "Epoch 4 took 58.19 seconds -- about 0 minutes\n",
      "Starting Epoch 5 at 12:36:53 PM\n"
     ]
    },
    {
     "name": "stderr",
     "output_type": "stream",
     "text": [
      "100%|██████████| 569/569 [00:56<00:00, 10.10it/s]\n"
     ]
    },
    {
     "name": "stdout",
     "output_type": "stream",
     "text": [
      "Epoch 5 accuracy = 84.98%\n"
     ]
    },
    {
     "name": "stderr",
     "output_type": "stream",
     "text": [
      "100%|██████████| 64/64 [00:01<00:00, 33.17it/s]\n"
     ]
    },
    {
     "name": "stdout",
     "output_type": "stream",
     "text": [
      "Validation accuracy for epoch 5 is 83.54%\n",
      "Epoch 5 took 58.29 seconds -- about 0 minutes\n",
      "Starting Epoch 6 at 12:37:51 PM\n"
     ]
    },
    {
     "name": "stderr",
     "output_type": "stream",
     "text": [
      "100%|██████████| 569/569 [00:56<00:00, 10.10it/s]\n"
     ]
    },
    {
     "name": "stdout",
     "output_type": "stream",
     "text": [
      "Epoch 6 accuracy = 85.15%\n"
     ]
    },
    {
     "name": "stderr",
     "output_type": "stream",
     "text": [
      "100%|██████████| 64/64 [00:01<00:00, 33.29it/s]\n"
     ]
    },
    {
     "name": "stdout",
     "output_type": "stream",
     "text": [
      "Validation accuracy for epoch 6 is 83.68%\n",
      "Epoch 6 took 58.25 seconds -- about 0 minutes\n",
      "Starting Epoch 7 at 12:38:50 PM\n"
     ]
    },
    {
     "name": "stderr",
     "output_type": "stream",
     "text": [
      "100%|██████████| 569/569 [00:56<00:00, 10.10it/s]\n"
     ]
    },
    {
     "name": "stdout",
     "output_type": "stream",
     "text": [
      "Epoch 7 accuracy = 85.40%\n"
     ]
    },
    {
     "name": "stderr",
     "output_type": "stream",
     "text": [
      "100%|██████████| 64/64 [00:01<00:00, 32.99it/s]\n"
     ]
    },
    {
     "name": "stdout",
     "output_type": "stream",
     "text": [
      "Validation accuracy for epoch 7 is 83.78%\n",
      "Epoch 7 took 58.30 seconds -- about 0 minutes\n",
      "Starting Epoch 8 at 12:39:48 PM\n"
     ]
    },
    {
     "name": "stderr",
     "output_type": "stream",
     "text": [
      "100%|██████████| 569/569 [00:56<00:00, 10.09it/s]\n"
     ]
    },
    {
     "name": "stdout",
     "output_type": "stream",
     "text": [
      "Epoch 8 accuracy = 85.45%\n"
     ]
    },
    {
     "name": "stderr",
     "output_type": "stream",
     "text": [
      "100%|██████████| 64/64 [00:01<00:00, 33.05it/s]\n"
     ]
    },
    {
     "name": "stdout",
     "output_type": "stream",
     "text": [
      "Validation accuracy for epoch 8 is 83.83%\n",
      "Epoch 8 took 58.31 seconds -- about 0 minutes\n",
      "Starting Epoch 9 at 12:40:46 PM\n"
     ]
    },
    {
     "name": "stderr",
     "output_type": "stream",
     "text": [
      "100%|██████████| 569/569 [00:56<00:00, 10.09it/s]\n"
     ]
    },
    {
     "name": "stdout",
     "output_type": "stream",
     "text": [
      "Epoch 9 accuracy = 85.47%\n"
     ]
    },
    {
     "name": "stderr",
     "output_type": "stream",
     "text": [
      "100%|██████████| 64/64 [00:01<00:00, 33.18it/s]\n"
     ]
    },
    {
     "name": "stdout",
     "output_type": "stream",
     "text": [
      "Validation accuracy for epoch 9 is 83.88%\n",
      "Epoch 9 took 58.31 seconds -- about 0 minutes\n",
      "Starting Epoch 10 at 12:41:45 PM\n"
     ]
    },
    {
     "name": "stderr",
     "output_type": "stream",
     "text": [
      "100%|██████████| 569/569 [00:56<00:00, 10.10it/s]\n"
     ]
    },
    {
     "name": "stdout",
     "output_type": "stream",
     "text": [
      "Epoch 10 accuracy = 85.53%\n"
     ]
    },
    {
     "name": "stderr",
     "output_type": "stream",
     "text": [
      "100%|██████████| 64/64 [00:01<00:00, 33.11it/s]\n"
     ]
    },
    {
     "name": "stdout",
     "output_type": "stream",
     "text": [
      "Validation accuracy for epoch 10 is 83.91%\n",
      "Epoch 10 took 58.29 seconds -- about 0 minutes\n",
      "Starting Epoch 11 at 12:42:43 PM\n"
     ]
    },
    {
     "name": "stderr",
     "output_type": "stream",
     "text": [
      "100%|██████████| 569/569 [00:56<00:00, 10.09it/s]\n"
     ]
    },
    {
     "name": "stdout",
     "output_type": "stream",
     "text": [
      "Epoch 11 accuracy = 85.51%\n"
     ]
    },
    {
     "name": "stderr",
     "output_type": "stream",
     "text": [
      "100%|██████████| 64/64 [00:01<00:00, 32.80it/s]\n"
     ]
    },
    {
     "name": "stdout",
     "output_type": "stream",
     "text": [
      "Validation accuracy for epoch 11 is 83.86%\n",
      "Epoch 11 took 58.33 seconds -- about 0 minutes\n",
      "Starting Epoch 12 at 12:43:41 PM\n"
     ]
    },
    {
     "name": "stderr",
     "output_type": "stream",
     "text": [
      "100%|██████████| 569/569 [00:56<00:00, 10.10it/s]\n"
     ]
    },
    {
     "name": "stdout",
     "output_type": "stream",
     "text": [
      "Epoch 12 accuracy = 85.51%\n"
     ]
    },
    {
     "name": "stderr",
     "output_type": "stream",
     "text": [
      "100%|██████████| 64/64 [00:01<00:00, 33.08it/s]\n"
     ]
    },
    {
     "name": "stdout",
     "output_type": "stream",
     "text": [
      "Validation accuracy for epoch 12 is 83.81%\n",
      "Epoch 12 took 58.28 seconds -- about 0 minutes\n",
      "Model trained and saved to models/part1model.pth\n",
      "Training Time: 700.2387900352478 seconds -- about 11 minutes\n"
     ]
    },
    {
     "data": {
      "image/png": "[encoded data removed]",
      "text/plain": [
       "<Figure size 640x480 with 1 Axes>"
      ]
     },
     "metadata": {},
     "output_type": "display_data"
    },
    {
     "name": "stdout",
     "output_type": "stream",
     "text": [
      "training completed\n",
      "testing...\n"
     ]
    },
    {
     "name": "stderr",
     "output_type": "stream",
     "text": [
      "100%|██████████| 63/63 [00:02<00:00, 31.39it/s]"
     ]
    },
    {
     "name": "stdout",
     "output_type": "stream",
     "text": [
      "Testing accuracy for PART 1 model 84.52%\n",
      "testing completed\n",
      "PART 1 -- Completed\n"
     ]
    },
    {
     "name": "stderr",
     "output_type": "stream",
     "text": [
      "\n"
     ]
    }
   ],
   "source": [
    "training_dir_labels = \"data/train.csv\"\n",
    "testing_dir_labels = \"data/test.csv\"\n",
    "dir_img = \"data/images/\"\n",
    "num_epochs = 12\n",
    "batch_size = 64\n",
    "save_model = \"models/part1model.pth\"\n",
    "plot_name = \"loss_plots/part1model\"\n",
    "\n",
    "transform = transforms.Compose([\n",
    "    transforms.Resize((80, 60)),\n",
    "    transforms.ToTensor()\n",
    "    ]) \n",
    "\n",
    "training_dataset = myDataset(dir_imgs=dir_img, dir_labels=training_dir_labels, transforms=transform)\n",
    "traininglength = int(len(training_dataset) * 0.9)\n",
    "validationlength = len(training_dataset) - traininglength\n",
    "trainset, validationset = random_split(training_dataset,[traininglength, validationlength])\n",
    "testing_dataset = myDataset(dir_imgs=dir_img, dir_labels=testing_dir_labels, transforms=transform)\n",
    "\n",
    "train_loader = DataLoader(trainset, batch_size=batch_size, shuffle=True)\n",
    "validation_loader = DataLoader(validationset, batch_size=batch_size, shuffle=True)\n",
    "test_loader = DataLoader(testing_dataset, batch_size=batch_size, shuffle=True)\n",
    "\n",
    "print(\"PART 1 -- Starting\")\n",
    "\n",
    "model = myCNNModel()\n",
    "\n",
    "loss_fn = nn.CrossEntropyLoss()\n",
    "optimizer = optim.Adam(model.parameters(), lr=1e-3)\n",
    "scheduler = StepLR(optimizer=optimizer, step_size=3, gamma=0.1)\n",
    "\n",
    "model.train()\n",
    "model.to(device=device)\n",
    "\n",
    "train(model=model, trainloader=train_loader, validationloader=validation_loader, epochs=num_epochs, loss_fn=loss_fn, optimizer=optimizer, \n",
    "        scheduler=scheduler, device=device, save_model=save_model, plot_name=plot_name, part=1)\n",
    "\n",
    "model = myCNNModel()\n",
    "model.load_state_dict(torch.load(save_model))\n",
    "model.to(device=device)\n",
    "\n",
    "test(model=model, dataloader=test_loader, device=device, part=1)\n",
    "\n",
    "print(\"PART 1 -- Completed\")\n"
   ]
  },
  {
   "cell_type": "markdown",
   "metadata": {},
   "source": [
    "### PART 1 Results\n",
    "\n",
    "After training and testing the model, we can see it produces a desirable output. The training results show a loss plot displaying the training and validation losses that were calculated at the end of each epoch. The two curves follow a similar trend with them converging around 0.03 after 12 epochs. The total training time was about 11 minutes long. Testing the model we can see an accuracy of 84.52% was produced. This means the model was able to accurately classify 84.52% of the images that it has not been trained on. Therefore, I believe the baseline model being not perfect did produce a satisfying result."
   ]
  },
  {
   "cell_type": "markdown",
   "metadata": {},
   "source": [
    "## PART 2"
   ]
  },
  {
   "cell_type": "markdown",
   "metadata": {},
   "source": [
    "### PART 2.1\n",
    "\n",
    "For part 2.1 the hyper-parameter I decided to tune was gamma located on line 30 within the StepLR scheduler. This parameter is used to determine when the learning rate should be applied. In the case of the following code, it means that every 3 epochs, the learning rate will be multiplied by 0.5 where in part 1 and part 2.2 it will be multiplied by 0.1. This higher gamma results in the learning rate decaying slower which is usually good for training on complex datasets. In part 1 we can see the model converges around epoch 10. Therefore, increasing the gamma, the model will converge later which will increase training time but should result in a model with finer tunned weights. Please note, that I will be keeping all other parameters consistent throughout training."
   ]
  },
  {
   "cell_type": "code",
   "execution_count": 21,
   "metadata": {},
   "outputs": [
    {
     "name": "stdout",
     "output_type": "stream",
     "text": [
      "PART 2.1 -- Starting\n",
      "training...\n",
      "Starting Epoch 1 at 12:44:42 PM\n"
     ]
    },
    {
     "name": "stderr",
     "output_type": "stream",
     "text": [
      "100%|██████████| 569/569 [00:55<00:00, 10.18it/s]\n"
     ]
    },
    {
     "name": "stdout",
     "output_type": "stream",
     "text": [
      "Epoch 1 accuracy = 76.38%\n"
     ]
    },
    {
     "name": "stderr",
     "output_type": "stream",
     "text": [
      "100%|██████████| 64/64 [00:01<00:00, 33.51it/s]\n"
     ]
    },
    {
     "name": "stdout",
     "output_type": "stream",
     "text": [
      "Validation accuracy for epoch 1 is 80.22%\n",
      "Epoch 1 took 57.83 seconds -- about 0 minutes\n",
      "Starting Epoch 2 at 12:45:40 PM\n"
     ]
    },
    {
     "name": "stderr",
     "output_type": "stream",
     "text": [
      "100%|██████████| 569/569 [00:54<00:00, 10.51it/s]\n"
     ]
    },
    {
     "name": "stdout",
     "output_type": "stream",
     "text": [
      "Epoch 2 accuracy = 82.20%\n"
     ]
    },
    {
     "name": "stderr",
     "output_type": "stream",
     "text": [
      "100%|██████████| 64/64 [00:01<00:00, 33.89it/s]\n"
     ]
    },
    {
     "name": "stdout",
     "output_type": "stream",
     "text": [
      "Validation accuracy for epoch 2 is 78.17%\n",
      "Epoch 2 took 56.04 seconds -- about 0 minutes\n",
      "Starting Epoch 3 at 12:46:36 PM\n"
     ]
    },
    {
     "name": "stderr",
     "output_type": "stream",
     "text": [
      "100%|██████████| 569/569 [00:54<00:00, 10.51it/s]\n"
     ]
    },
    {
     "name": "stdout",
     "output_type": "stream",
     "text": [
      "Epoch 3 accuracy = 83.16%\n"
     ]
    },
    {
     "name": "stderr",
     "output_type": "stream",
     "text": [
      "100%|██████████| 64/64 [00:01<00:00, 33.63it/s]\n"
     ]
    },
    {
     "name": "stdout",
     "output_type": "stream",
     "text": [
      "Validation accuracy for epoch 3 is 80.82%\n",
      "Epoch 3 took 56.02 seconds -- about 0 minutes\n",
      "Starting Epoch 4 at 12:47:32 PM\n"
     ]
    },
    {
     "name": "stderr",
     "output_type": "stream",
     "text": [
      "100%|██████████| 569/569 [00:54<00:00, 10.47it/s]\n"
     ]
    },
    {
     "name": "stdout",
     "output_type": "stream",
     "text": [
      "Epoch 4 accuracy = 84.45%\n"
     ]
    },
    {
     "name": "stderr",
     "output_type": "stream",
     "text": [
      "100%|██████████| 64/64 [00:01<00:00, 33.91it/s]\n"
     ]
    },
    {
     "name": "stdout",
     "output_type": "stream",
     "text": [
      "Validation accuracy for epoch 4 is 82.22%\n",
      "Epoch 4 took 56.23 seconds -- about 0 minutes\n",
      "Starting Epoch 5 at 12:48:28 PM\n"
     ]
    },
    {
     "name": "stderr",
     "output_type": "stream",
     "text": [
      "100%|██████████| 569/569 [00:54<00:00, 10.52it/s]\n"
     ]
    },
    {
     "name": "stdout",
     "output_type": "stream",
     "text": [
      "Epoch 5 accuracy = 84.78%\n"
     ]
    },
    {
     "name": "stderr",
     "output_type": "stream",
     "text": [
      "100%|██████████| 64/64 [00:01<00:00, 33.53it/s]\n"
     ]
    },
    {
     "name": "stdout",
     "output_type": "stream",
     "text": [
      "Validation accuracy for epoch 5 is 83.19%\n",
      "Epoch 5 took 56.00 seconds -- about 0 minutes\n",
      "Starting Epoch 6 at 12:49:24 PM\n"
     ]
    },
    {
     "name": "stderr",
     "output_type": "stream",
     "text": [
      "100%|██████████| 569/569 [00:54<00:00, 10.48it/s]\n"
     ]
    },
    {
     "name": "stdout",
     "output_type": "stream",
     "text": [
      "Epoch 6 accuracy = 84.85%\n"
     ]
    },
    {
     "name": "stderr",
     "output_type": "stream",
     "text": [
      "100%|██████████| 64/64 [00:01<00:00, 33.75it/s]\n"
     ]
    },
    {
     "name": "stdout",
     "output_type": "stream",
     "text": [
      "Validation accuracy for epoch 6 is 83.41%\n",
      "Epoch 6 took 56.22 seconds -- about 0 minutes\n",
      "Starting Epoch 7 at 12:50:20 PM\n"
     ]
    },
    {
     "name": "stderr",
     "output_type": "stream",
     "text": [
      "100%|██████████| 569/569 [00:54<00:00, 10.47it/s]\n"
     ]
    },
    {
     "name": "stdout",
     "output_type": "stream",
     "text": [
      "Epoch 7 accuracy = 85.41%\n"
     ]
    },
    {
     "name": "stderr",
     "output_type": "stream",
     "text": [
      "100%|██████████| 64/64 [00:01<00:00, 33.75it/s]\n"
     ]
    },
    {
     "name": "stdout",
     "output_type": "stream",
     "text": [
      "Validation accuracy for epoch 7 is 83.71%\n",
      "Epoch 7 took 56.24 seconds -- about 0 minutes\n",
      "Starting Epoch 8 at 12:51:17 PM\n"
     ]
    },
    {
     "name": "stderr",
     "output_type": "stream",
     "text": [
      "100%|██████████| 569/569 [00:54<00:00, 10.43it/s]\n"
     ]
    },
    {
     "name": "stdout",
     "output_type": "stream",
     "text": [
      "Epoch 8 accuracy = 85.55%\n"
     ]
    },
    {
     "name": "stderr",
     "output_type": "stream",
     "text": [
      "100%|██████████| 64/64 [00:01<00:00, 33.75it/s]\n"
     ]
    },
    {
     "name": "stdout",
     "output_type": "stream",
     "text": [
      "Validation accuracy for epoch 8 is 83.61%\n",
      "Epoch 8 took 56.47 seconds -- about 0 minutes\n",
      "Starting Epoch 9 at 12:52:13 PM\n"
     ]
    },
    {
     "name": "stderr",
     "output_type": "stream",
     "text": [
      "100%|██████████| 569/569 [00:53<00:00, 10.54it/s]\n"
     ]
    },
    {
     "name": "stdout",
     "output_type": "stream",
     "text": [
      "Epoch 9 accuracy = 85.52%\n"
     ]
    },
    {
     "name": "stderr",
     "output_type": "stream",
     "text": [
      "100%|██████████| 64/64 [00:01<00:00, 33.60it/s]\n"
     ]
    },
    {
     "name": "stdout",
     "output_type": "stream",
     "text": [
      "Validation accuracy for epoch 9 is 83.58%\n",
      "Epoch 9 took 55.90 seconds -- about 0 minutes\n",
      "Starting Epoch 10 at 12:53:09 PM\n"
     ]
    },
    {
     "name": "stderr",
     "output_type": "stream",
     "text": [
      "100%|██████████| 569/569 [00:54<00:00, 10.51it/s]\n"
     ]
    },
    {
     "name": "stdout",
     "output_type": "stream",
     "text": [
      "Epoch 10 accuracy = 85.79%\n"
     ]
    },
    {
     "name": "stderr",
     "output_type": "stream",
     "text": [
      "100%|██████████| 64/64 [00:01<00:00, 33.79it/s]\n"
     ]
    },
    {
     "name": "stdout",
     "output_type": "stream",
     "text": [
      "Validation accuracy for epoch 10 is 83.76%\n",
      "Epoch 10 took 56.04 seconds -- about 0 minutes\n",
      "Starting Epoch 11 at 12:54:05 PM\n"
     ]
    },
    {
     "name": "stderr",
     "output_type": "stream",
     "text": [
      "100%|██████████| 569/569 [00:53<00:00, 10.54it/s]\n"
     ]
    },
    {
     "name": "stdout",
     "output_type": "stream",
     "text": [
      "Epoch 11 accuracy = 85.87%\n"
     ]
    },
    {
     "name": "stderr",
     "output_type": "stream",
     "text": [
      "100%|██████████| 64/64 [00:01<00:00, 33.57it/s]\n"
     ]
    },
    {
     "name": "stdout",
     "output_type": "stream",
     "text": [
      "Validation accuracy for epoch 11 is 83.68%\n",
      "Epoch 11 took 55.88 seconds -- about 0 minutes\n",
      "Starting Epoch 12 at 12:55:01 PM\n"
     ]
    },
    {
     "name": "stderr",
     "output_type": "stream",
     "text": [
      "100%|██████████| 569/569 [00:53<00:00, 10.54it/s]\n"
     ]
    },
    {
     "name": "stdout",
     "output_type": "stream",
     "text": [
      "Epoch 12 accuracy = 85.90%\n"
     ]
    },
    {
     "name": "stderr",
     "output_type": "stream",
     "text": [
      "100%|██████████| 64/64 [00:01<00:00, 33.67it/s]\n"
     ]
    },
    {
     "name": "stdout",
     "output_type": "stream",
     "text": [
      "Validation accuracy for epoch 12 is 83.76%\n",
      "Epoch 12 took 55.88 seconds -- about 0 minutes\n",
      "Model trained and saved to models/part2_1model.pth\n",
      "Training Time: 674.927521944046 seconds -- about 11 minutes\n"
     ]
    },
    {
     "data": {
      "image/png": "[encoded data removed]",
      "text/plain": [
       "<Figure size 640x480 with 1 Axes>"
      ]
     },
     "metadata": {},
     "output_type": "display_data"
    },
    {
     "name": "stdout",
     "output_type": "stream",
     "text": [
      "training completed\n",
      "testing...\n"
     ]
    },
    {
     "name": "stderr",
     "output_type": "stream",
     "text": [
      "100%|██████████| 63/63 [00:01<00:00, 31.73it/s]"
     ]
    },
    {
     "name": "stdout",
     "output_type": "stream",
     "text": [
      "Testing accuracy for PART 2.1 model 84.50%\n",
      "testing completed\n",
      "PART 2.1 -- Completed\n"
     ]
    },
    {
     "name": "stderr",
     "output_type": "stream",
     "text": [
      "\n"
     ]
    }
   ],
   "source": [
    "training_dir_labels = \"data/train.csv\"\n",
    "testing_dir_labels = \"data/test.csv\"\n",
    "dir_img = \"data/images/\"\n",
    "num_epochs = 12\n",
    "batch_size = 64\n",
    "save_model = \"models/part2_1model.pth\"\n",
    "plot_name = \"loss_plots/part2_1model\"\n",
    "\n",
    "transform = transforms.Compose([\n",
    "    transforms.Resize((80, 60)),\n",
    "    transforms.ToTensor()\n",
    "    ]) \n",
    "\n",
    "training_dataset = myDataset(dir_imgs=dir_img, dir_labels=training_dir_labels, transforms=transform)\n",
    "traininglength = int(len(training_dataset) * 0.9)\n",
    "validationlength = len(training_dataset) - traininglength\n",
    "trainset, validationset = random_split(training_dataset,[traininglength, validationlength])\n",
    "testing_dataset = myDataset(dir_imgs=dir_img, dir_labels=testing_dir_labels, transforms=transform)\n",
    "\n",
    "train_loader = DataLoader(trainset, batch_size=batch_size, shuffle=True)\n",
    "validation_loader = DataLoader(validationset, batch_size=batch_size, shuffle=True)\n",
    "test_loader = DataLoader(testing_dataset, batch_size=batch_size, shuffle=True)\n",
    "\n",
    "print(\"PART 2.1 -- Starting\")\n",
    "\n",
    "model = myCNNModel()\n",
    "\n",
    "# updated the gamma for part 2.1\n",
    "optimizer = optim.Adam(model.parameters(), lr=1e-3)\n",
    "scheduler = StepLR(optimizer=optimizer, step_size=3, gamma=0.5)\n",
    "\n",
    "model.train()\n",
    "model.to(device=device)\n",
    "\n",
    "train(model=model, trainloader=train_loader, validationloader=validation_loader, epochs=num_epochs, loss_fn=loss_fn, optimizer=optimizer, \n",
    "        scheduler=scheduler, device=device, save_model=save_model, plot_name=plot_name, part=2.1)\n",
    "\n",
    "model = myCNNModel()\n",
    "model.load_state_dict(torch.load(save_model))\n",
    "model.to(device=device)\n",
    "\n",
    "test(model=model, dataloader=test_loader, device=device, part=2.1)\n",
    "\n",
    "print(\"PART 2.1 -- Completed\")\n"
   ]
  },
  {
   "cell_type": "markdown",
   "metadata": {},
   "source": [
    "### PART 2.1 Results\n",
    "\n",
    "After adjusting the hyperparameter gamma, then retraining the model and testing it we get results that are interesting. The total training time was about the same as seen in part 1. This was expected as both models were trained for an equal number of epochs and no extra parameters were added to the model (myCNNModel). It is noted that the training and validation losses do trend closer together as it reaches the later epochs. Lastly, the testing results show the model achieved an accuracy of 84.50%. This is very slightly less than the model in part 1 but is negatable in the greater scope. Since the results show such similar scores, it can be stated that changing the gamma does not have a large impact on the overall output of the system for this model/dataset."
   ]
  },
  {
   "cell_type": "markdown",
   "metadata": {},
   "source": [
    "### PART 2.2\n",
    "\n",
    "For part 2.2 the data augmentation is created in the new dataset, myDataset2_2. This dataset is similar to the one used in the previous two examples as it will read the fashion image dataset as normal (read the image and label and give it to the model for training). However, myDataset2 will also augment the data by flipping the images but keeping the same labels. This will result in double the amount of data that the model will be trained on."
   ]
  },
  {
   "cell_type": "code",
   "execution_count": 22,
   "metadata": {},
   "outputs": [
    {
     "name": "stdout",
     "output_type": "stream",
     "text": [
      "PART 2.2 -- Starting\n",
      "training...\n",
      "Starting Epoch 1 at 12:56:05 PM\n"
     ]
    },
    {
     "name": "stderr",
     "output_type": "stream",
     "text": [
      "100%|██████████| 1138/1138 [01:41<00:00, 11.26it/s]\n"
     ]
    },
    {
     "name": "stdout",
     "output_type": "stream",
     "text": [
      "Epoch 1 accuracy = 75.44%\n"
     ]
    },
    {
     "name": "stderr",
     "output_type": "stream",
     "text": [
      "100%|██████████| 127/127 [00:02<00:00, 44.22it/s]\n"
     ]
    },
    {
     "name": "stdout",
     "output_type": "stream",
     "text": [
      "Validation accuracy for epoch 1 is 75.52%\n",
      "Epoch 1 took 103.95 seconds -- about 1 minutes\n",
      "Starting Epoch 2 at 12:57:49 PM\n"
     ]
    },
    {
     "name": "stderr",
     "output_type": "stream",
     "text": [
      "100%|██████████| 1138/1138 [01:40<00:00, 11.27it/s]\n"
     ]
    },
    {
     "name": "stdout",
     "output_type": "stream",
     "text": [
      "Epoch 2 accuracy = 82.03%\n"
     ]
    },
    {
     "name": "stderr",
     "output_type": "stream",
     "text": [
      "100%|██████████| 127/127 [00:02<00:00, 44.28it/s]\n"
     ]
    },
    {
     "name": "stdout",
     "output_type": "stream",
     "text": [
      "Validation accuracy for epoch 2 is 81.46%\n",
      "Epoch 2 took 103.84 seconds -- about 1 minutes\n",
      "Starting Epoch 3 at 12:59:33 PM\n"
     ]
    },
    {
     "name": "stderr",
     "output_type": "stream",
     "text": [
      "100%|██████████| 1138/1138 [01:40<00:00, 11.27it/s]\n"
     ]
    },
    {
     "name": "stdout",
     "output_type": "stream",
     "text": [
      "Epoch 3 accuracy = 83.06%\n"
     ]
    },
    {
     "name": "stderr",
     "output_type": "stream",
     "text": [
      "100%|██████████| 127/127 [00:02<00:00, 44.31it/s]\n"
     ]
    },
    {
     "name": "stdout",
     "output_type": "stream",
     "text": [
      "Validation accuracy for epoch 3 is 82.67%\n",
      "Epoch 3 took 103.85 seconds -- about 1 minutes\n",
      "Starting Epoch 4 at 13:01:17 PM\n"
     ]
    },
    {
     "name": "stderr",
     "output_type": "stream",
     "text": [
      "100%|██████████| 1138/1138 [01:40<00:00, 11.27it/s]\n"
     ]
    },
    {
     "name": "stdout",
     "output_type": "stream",
     "text": [
      "Epoch 4 accuracy = 84.60%\n"
     ]
    },
    {
     "name": "stderr",
     "output_type": "stream",
     "text": [
      "100%|██████████| 127/127 [00:02<00:00, 44.16it/s]\n"
     ]
    },
    {
     "name": "stdout",
     "output_type": "stream",
     "text": [
      "Validation accuracy for epoch 4 is 84.81%\n",
      "Epoch 4 took 103.83 seconds -- about 1 minutes\n",
      "Starting Epoch 5 at 13:03:01 PM\n"
     ]
    },
    {
     "name": "stderr",
     "output_type": "stream",
     "text": [
      "100%|██████████| 1138/1138 [01:40<00:00, 11.27it/s]\n"
     ]
    },
    {
     "name": "stdout",
     "output_type": "stream",
     "text": [
      "Epoch 5 accuracy = 84.92%\n"
     ]
    },
    {
     "name": "stderr",
     "output_type": "stream",
     "text": [
      "100%|██████████| 127/127 [00:02<00:00, 44.28it/s]\n"
     ]
    },
    {
     "name": "stdout",
     "output_type": "stream",
     "text": [
      "Validation accuracy for epoch 5 is 84.55%\n",
      "Epoch 5 took 103.81 seconds -- about 1 minutes\n",
      "Starting Epoch 6 at 13:04:44 PM\n"
     ]
    },
    {
     "name": "stderr",
     "output_type": "stream",
     "text": [
      "100%|██████████| 1138/1138 [01:41<00:00, 11.26it/s]\n"
     ]
    },
    {
     "name": "stdout",
     "output_type": "stream",
     "text": [
      "Epoch 6 accuracy = 85.14%\n"
     ]
    },
    {
     "name": "stderr",
     "output_type": "stream",
     "text": [
      "100%|██████████| 127/127 [00:02<00:00, 44.25it/s]\n"
     ]
    },
    {
     "name": "stdout",
     "output_type": "stream",
     "text": [
      "Validation accuracy for epoch 6 is 84.86%\n",
      "Epoch 6 took 103.91 seconds -- about 1 minutes\n",
      "Starting Epoch 7 at 13:06:28 PM\n"
     ]
    },
    {
     "name": "stderr",
     "output_type": "stream",
     "text": [
      "100%|██████████| 1138/1138 [01:41<00:00, 11.23it/s]\n"
     ]
    },
    {
     "name": "stdout",
     "output_type": "stream",
     "text": [
      "Epoch 7 accuracy = 85.36%\n"
     ]
    },
    {
     "name": "stderr",
     "output_type": "stream",
     "text": [
      "100%|██████████| 127/127 [00:02<00:00, 44.30it/s]\n"
     ]
    },
    {
     "name": "stdout",
     "output_type": "stream",
     "text": [
      "Validation accuracy for epoch 7 is 84.93%\n",
      "Epoch 7 took 104.21 seconds -- about 1 minutes\n",
      "Starting Epoch 8 at 13:08:12 PM\n"
     ]
    },
    {
     "name": "stderr",
     "output_type": "stream",
     "text": [
      "100%|██████████| 1138/1138 [01:41<00:00, 11.24it/s]\n"
     ]
    },
    {
     "name": "stdout",
     "output_type": "stream",
     "text": [
      "Epoch 8 accuracy = 85.42%\n"
     ]
    },
    {
     "name": "stderr",
     "output_type": "stream",
     "text": [
      "100%|██████████| 127/127 [00:02<00:00, 44.22it/s]\n"
     ]
    },
    {
     "name": "stdout",
     "output_type": "stream",
     "text": [
      "Validation accuracy for epoch 8 is 84.93%\n",
      "Epoch 8 took 104.13 seconds -- about 1 minutes\n",
      "Starting Epoch 9 at 13:09:57 PM\n"
     ]
    },
    {
     "name": "stderr",
     "output_type": "stream",
     "text": [
      "100%|██████████| 1138/1138 [01:41<00:00, 11.23it/s]\n"
     ]
    },
    {
     "name": "stdout",
     "output_type": "stream",
     "text": [
      "Epoch 9 accuracy = 85.45%\n"
     ]
    },
    {
     "name": "stderr",
     "output_type": "stream",
     "text": [
      "100%|██████████| 127/127 [00:02<00:00, 44.35it/s]\n"
     ]
    },
    {
     "name": "stdout",
     "output_type": "stream",
     "text": [
      "Validation accuracy for epoch 9 is 84.99%\n",
      "Epoch 9 took 104.19 seconds -- about 1 minutes\n",
      "Starting Epoch 10 at 13:11:41 PM\n"
     ]
    },
    {
     "name": "stderr",
     "output_type": "stream",
     "text": [
      "100%|██████████| 1138/1138 [01:41<00:00, 11.23it/s]\n"
     ]
    },
    {
     "name": "stdout",
     "output_type": "stream",
     "text": [
      "Epoch 10 accuracy = 85.49%\n"
     ]
    },
    {
     "name": "stderr",
     "output_type": "stream",
     "text": [
      "100%|██████████| 127/127 [00:02<00:00, 44.30it/s]\n"
     ]
    },
    {
     "name": "stdout",
     "output_type": "stream",
     "text": [
      "Validation accuracy for epoch 10 is 84.95%\n",
      "Epoch 10 took 104.23 seconds -- about 1 minutes\n",
      "Starting Epoch 11 at 13:13:25 PM\n"
     ]
    },
    {
     "name": "stderr",
     "output_type": "stream",
     "text": [
      "100%|██████████| 1138/1138 [01:41<00:00, 11.16it/s]\n"
     ]
    },
    {
     "name": "stdout",
     "output_type": "stream",
     "text": [
      "Epoch 11 accuracy = 85.46%\n"
     ]
    },
    {
     "name": "stderr",
     "output_type": "stream",
     "text": [
      "100%|██████████| 127/127 [00:03<00:00, 41.43it/s]\n"
     ]
    },
    {
     "name": "stdout",
     "output_type": "stream",
     "text": [
      "Validation accuracy for epoch 11 is 85.00%\n",
      "Epoch 11 took 105.03 seconds -- about 1 minutes\n",
      "Starting Epoch 12 at 13:15:10 PM\n"
     ]
    },
    {
     "name": "stderr",
     "output_type": "stream",
     "text": [
      "100%|██████████| 1138/1138 [01:41<00:00, 11.26it/s]\n"
     ]
    },
    {
     "name": "stdout",
     "output_type": "stream",
     "text": [
      "Epoch 12 accuracy = 85.48%\n"
     ]
    },
    {
     "name": "stderr",
     "output_type": "stream",
     "text": [
      "100%|██████████| 127/127 [00:03<00:00, 41.53it/s]\n"
     ]
    },
    {
     "name": "stdout",
     "output_type": "stream",
     "text": [
      "Validation accuracy for epoch 12 is 84.98%\n",
      "Epoch 12 took 104.11 seconds -- about 1 minutes\n",
      "Model trained and saved to models/part2_2model.pth\n",
      "Training Time: 1249.2739508152008 seconds -- about 20 minutes\n"
     ]
    },
    {
     "data": {
      "image/png": "[encoded data removed]",
      "text/plain": [
       "<Figure size 640x480 with 1 Axes>"
      ]
     },
     "metadata": {},
     "output_type": "display_data"
    },
    {
     "name": "stdout",
     "output_type": "stream",
     "text": [
      "training completed\n",
      "testing...\n"
     ]
    },
    {
     "name": "stderr",
     "output_type": "stream",
     "text": [
      "100%|██████████| 125/125 [00:03<00:00, 38.87it/s]"
     ]
    },
    {
     "name": "stdout",
     "output_type": "stream",
     "text": [
      "Testing accuracy for PART 2.2 model 84.66%\n",
      "testing completed\n",
      "PART 2.2 -- Completed\n"
     ]
    },
    {
     "name": "stderr",
     "output_type": "stream",
     "text": [
      "\n"
     ]
    }
   ],
   "source": [
    "training_dir_labels = \"data/train.csv\"\n",
    "testing_dir_labels = \"data/test.csv\"\n",
    "dir_img = \"data/images/\"\n",
    "num_epochs = 12\n",
    "batch_size = 64\n",
    "save_model = \"models/part2_2model.pth\"\n",
    "plot_name = \"loss_plots/part2_2model\"\n",
    "\n",
    "transform = transforms.Compose([\n",
    "    transforms.Resize((80, 60)),\n",
    "    transforms.ToTensor()\n",
    "    ]) \n",
    "\n",
    "# use augmentation dataset for part 2.2\n",
    "training_dataset = myDataset2_2(dir_imgs=dir_img, dir_labels=training_dir_labels, transforms=transform)\n",
    "traininglength = int(len(training_dataset) * 0.9)\n",
    "validationlength = len(training_dataset) - traininglength\n",
    "trainset, validationset = random_split(training_dataset,[traininglength, validationlength])\n",
    "testing_dataset = myDataset2_2(dir_imgs=dir_img, dir_labels=testing_dir_labels, transforms=transform)\n",
    "\n",
    "train_loader = DataLoader(trainset, batch_size=batch_size, shuffle=True)\n",
    "validation_loader = DataLoader(validationset, batch_size=batch_size, shuffle=True)\n",
    "test_loader = DataLoader(testing_dataset, batch_size=batch_size, shuffle=True)\n",
    "\n",
    "print(\"PART 2.2 -- Starting\")\n",
    "\n",
    "model = myCNNModel()\n",
    "\n",
    "optimizer = optim.Adam(model.parameters(), lr=1e-3)\n",
    "scheduler = StepLR(optimizer=optimizer, step_size=3, gamma=0.1)\n",
    "\n",
    "model.train()\n",
    "model.to(device=device)\n",
    "\n",
    "train(model=model, trainloader=train_loader, validationloader=validation_loader, epochs=num_epochs, loss_fn=loss_fn, optimizer=optimizer, \n",
    "        scheduler=scheduler, device=device, save_model=save_model, plot_name=plot_name, part=2.2)\n",
    "\n",
    "model = myCNNModel()\n",
    "model.load_state_dict(torch.load(save_model))\n",
    "model.to(device=device)\n",
    "\n",
    "test(model=model, dataloader=test_loader, device=device, part=2.2)\n",
    "\n",
    "print(\"PART 2.2 -- Completed\")\n"
   ]
  },
  {
   "cell_type": "markdown",
   "metadata": {},
   "source": [
    "### PART 2.2 Results\n",
    "\n",
    "Bringing the model back to the same setup as in part 1, we can see that the model produced better results. It is noted that these results only differ by 0.14%. Looking at the training results, the loss plot shows a desirable curve with the lines trending in a similar trend. The total time to train was about 20 minutes, this was expected as this model was trained on double the amount of data (the original and a copy of the original but flipped vertically). The testing results tells us the accuracy of the model was 84.66%. Due to this very small increase in accuracy with double the training time, I do not believe it would be worth only applying this augmentation to the data. With more data augmentation it is possible the results could be better, however, with more data, the longer the model takes to train and with this trade off, the user must decide if it is worth it."
   ]
  }
 ],
 "metadata": {
  "kernelspec": {
   "display_name": "Python 3",
   "language": "python",
   "name": "python3"
  },
  "language_info": {
   "codemirror_mode": {
    "name": "ipython",
    "version": 3
   },
   "file_extension": ".py",
   "mimetype": "text/x-python",
   "name": "python",
   "nbconvert_exporter": "python",
   "pygments_lexer": "ipython3",
   "version": "3.9.6"
  }
 },
 "nbformat": 4,
 "nbformat_minor": 2
}
